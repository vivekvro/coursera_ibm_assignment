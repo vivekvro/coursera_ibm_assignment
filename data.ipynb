{
 "cells": [
  {
   "cell_type": "markdown",
   "id": "acbc30ec-d1d5-4d63-8712-df9830baad2b",
   "metadata": {},
   "source": [
    "# Data science assignment "
   ]
  },
  {
   "cell_type": "markdown",
   "id": "0c0a1d1a-2d72-466f-9144-6599879f56fa",
   "metadata": {},
   "source": [
    " ### INTRODUCTION"
   ]
  },
  {
   "cell_type": "markdown",
   "id": "0f561edb-cdf0-487f-9571-8931f70fc4ac",
   "metadata": {},
   "source": [
    "### data science languages\n",
    "#### python, R, SQL, JAVA,Scala"
   ]
  },
  {
   "cell_type": "markdown",
   "id": "90cc3fa7-6d14-4c41-b638-36c78c0da566",
   "metadata": {},
   "source": [
    "## data science libaries\n",
    "###  pandas , numpy , scipy, matplotlib, tensorflow, pytorch, keras , sklearn"
   ]
  },
  {
   "cell_type": "markdown",
   "id": "6a482ae6-b4e1-4a8e-be49-05215a992b40",
   "metadata": {},
   "source": [
    "### Table of Popular Data Science Tools\n",
    "\n",
    "| **Category**            | **Tool/Technology**                | **Description**                                                                      |\n",
    "|--------------------------|-------------------------------------|--------------------------------------------------------------------------------------|\n",
    "| Programming Languages    | Python, R, Julia                  | Commonly used languages for data analysis, visualization, and machine learning.      |\n",
    "| Data Manipulation        | Pandas, dplyr                     | Tools for cleaning, transforming, and manipulating data.                             |\n",
    "| Data Visualization       | Matplotlib, Seaborn, ggplot2      | Libraries for creating plots and charts for better insights.                         |\n",
    "| Machine Learning         | Scikit-learn, TensorFlow, PyTorch | Libraries for building and deploying ML models.                                      |\n",
    "| Big Data Tools           | Hadoop, Spark                     | Frameworks for processing large datasets efficiently.                                |\n",
    "| Data Storage             | MySQL, MongoDB, Cassandra         | Databases for storing structured and unstructured data.                              |\n",
    "| Cloud Platforms          | AWS, Google Cloud, Azure          | Cloud services for scalable data processing and storage.                             |\n",
    "| Version Control          | Git, GitHub, GitLab               | Tools for collaboration and tracking changes in projects.                            |\n",
    "| Integrated Dev. Environ. | Jupyter Notebook, RStudio         | Interactive environments for writing and executing code.                             |\n",
    "| Data Reporting           | Tableau, Power BI, Looker         | Tools for creating dashboards and sharing insights.                                  |\n"
   ]
  },
  {
   "cell_type": "markdown",
   "id": "dda8c202-c821-4310-943c-518cb30ec896",
   "metadata": {},
   "source": [
    "### Introduction to Arithmetic Expressions\n",
    "\n",
    "Arithmetic expressions are mathematical calculations involving numbers and operators. These expressions are commonly used in programming and data analysis to perform computations.\n",
    "\n",
    "#### Examples of Arithmetic Expressions:\n",
    "1. **Addition (+):** `5 + 3 = 8`\n",
    "2. **Subtraction (-):** `10 - 4 = 6`\n",
    "3. **Multiplication (*):** `7 * 3 = 21`\n",
    "4. **Division (/):** `20 / 5 = 4`\n",
    "5. **Exponentiation (**):** `2 ** 3 = 8`\n",
    "6. **Modulo (%):** `15 % 4 = 3` (remainder of division)\n",
    "\n",
    "Arithmetic expressions can be combined for more complex calculations, such as:\n",
    "- `(5 + 3) * 2 = 16`\n",
    "- `10 / (2 + 3) = 2`\n"
   ]
  },
  {
   "cell_type": "code",
   "execution_count": 13,
   "id": "10a98079-fd48-46a5-bc03-0b16e27a7688",
   "metadata": {},
   "outputs": [
    {
     "data": {
      "text/plain": [
       "20"
      ]
     },
     "execution_count": 13,
     "metadata": {},
     "output_type": "execute_result"
    }
   ],
   "source": [
    "10+10"
   ]
  },
  {
   "cell_type": "code",
   "execution_count": 14,
   "id": "790d356e-4ff7-4c95-b038-70289b2c13cb",
   "metadata": {},
   "outputs": [
    {
     "data": {
      "text/plain": [
       "40"
      ]
     },
     "execution_count": 14,
     "metadata": {},
     "output_type": "execute_result"
    }
   ],
   "source": [
    "20*2"
   ]
  },
  {
   "cell_type": "code",
   "execution_count": 15,
   "id": "2c248522-ef64-4b1e-82f5-bbe4bd54548b",
   "metadata": {},
   "outputs": [
    {
     "data": {
      "text/plain": [
       "2.0"
      ]
     },
     "execution_count": 15,
     "metadata": {},
     "output_type": "execute_result"
    }
   ],
   "source": [
    "minutes = 120\n",
    "hours= minutes/60\n",
    "hours"
   ]
  },
  {
   "cell_type": "markdown",
   "id": "b5cbb5f5-778a-47c8-9c4e-73c8c30bef33",
   "metadata": {},
   "source": [
    "### Objectives\n",
    "\n",
    "The main objectives of this notebook are:\n",
    "\n",
    "1. Understand the basics of **Data Science tools** and their applications.\n",
    "2. Learn how to write and evaluate **arithmetic expressions** in Python.\n",
    "3. Explore examples of **data manipulation** using libraries like Pandas.\n",
    "4. Visualize data using **Matplotlib** and **Seaborn**.\n",
    "5. Build and evaluate a simple **machine learning model** using Scikit-learn.\n",
    "6. Develop skills in **data storytelling** through reports and dashboards.\n",
    "\n",
    "By the end of this notebook, you will have a foundational understanding of key concepts in data science.\n"
   ]
  },
  {
   "cell_type": "markdown",
   "id": "af29bd54-0f52-40a9-976a-0db98d07440a",
   "metadata": {},
   "source": [
    "### Author\n",
    "\n",
    "**Vivek Singh**  \n",
    "_Data Science Enthusiast and Python Developer_  \n"
   ]
  },
  {
   "cell_type": "code",
   "execution_count": null,
   "id": "2e49fce8-4d0f-4490-8a70-f476d1cc61e9",
   "metadata": {},
   "outputs": [],
   "source": []
  }
 ],
 "metadata": {
  "kernelspec": {
   "display_name": "Python 3 (ipykernel)",
   "language": "python",
   "name": "python3"
  },
  "language_info": {
   "codemirror_mode": {
    "name": "ipython",
    "version": 3
   },
   "file_extension": ".py",
   "mimetype": "text/x-python",
   "name": "python",
   "nbconvert_exporter": "python",
   "pygments_lexer": "ipython3",
   "version": "3.12.4"
  }
 },
 "nbformat": 4,
 "nbformat_minor": 5
}
